{
 "cells": [
  {
   "cell_type": "markdown",
   "metadata": {},
   "source": [
    "<img src='https://gitlab.eumetsat.int/eumetlab/oceans/ocean-training/tools/frameworks/-/raw/main/img/Standard_banner.png' align='right' width='100%'/>"
   ]
  },
  {
   "cell_type": "markdown",
   "metadata": {},
   "source": [
    "<a href=\"../Index.ipynb\"><< Index</a>\n",
    "<br>\n",
    "<a href=\"./1_2_SLSTR_file_structure.ipynb\">Understanding SLSTR product structure >></a>"
   ]
  },
  {
   "cell_type": "markdown",
   "metadata": {},
   "source": [
    "<font color=\"#138D75\">**Copernicus Marine Training Service**</font> <br>\n",
    "**Copyright:** 2023 EUMETSAT <br>\n",
    "**License:** MIT <br>\n",
    "**Authors:** Ben Loveday (EUMETSAT/Innoflair UG), Hayley Evers-King (EUMETSAT)"
   ]
  },
  {
   "cell_type": "markdown",
   "metadata": {},
   "source": [
    "<html>\n",
    "  <div style=\"width:100%\">\n",
    "    <div style=\"float:left\"><a href=\"https://mybinder.org/v2/git/https%3A%2F%2Fgitlab.eumetsat.int%2Feumetlab%2Foceans%2Focean-training%2Fsensors%2Flearn-slstr/HEAD?urlpath=%2Ftree%2F1_SLSTR_introductory%2F1_1b_SLSTR_data_access_HDA.ipynb\"><img src=\"https://mybinder.org/badge_logo.svg\" alt=\"Open in Binder\"></a></div>\n",
    "    <div style=\"float:left\"><p>&emsp;</p></div>\n",
    "  </div>\n",
    "  <div style=\"width:100%\">\n",
    "    <div style=\"float:left\"><a href=\"https://jupyterhub-wekeo.apps.eumetsat.dpi.wekeo.eu/hub/user-redirect/lab/tree/public/wekeo4oceans/learn-slstr/1_SLSTR_introductory/1_1b_SLSTR_data_access_HDA.ipynb\"><img src=\"https://img.shields.io/badge/launch-WEKEO-1a4696.svg?style=flat&logo=data:image/png;base64,iVBORw0KGgoAAAANSUhEUgAAAA8AAAAMCAMAAACKnBfWAAAABGdBTUEAALGPC/xhBQAAACBjSFJNAAB6JgAAgIQAAPoAAACA6AAAdTAAAOpgAAA6mAAAF3CculE8AAABwlBMVEUAYbdepNtBc7VCdLhNhMQkXKpsn9RWltFZl9VlpNI3aK9fpNtMd7ZznM8pg8o4WJc2TZFHY6MmQYptiLxnqt5hptxfpNtfpNtfpNtgpdtip9x2uullqN1fpNtdo9pepdtanNQ9a65Bc7dCeb5nqt5fpNslUpssW6RMgcBTjstWldJhptxdo9phoNdkpdtfpNtoqNxepNplo9hepNthnNNfpdtelM1hptxSgL5dj8hoqt5fpNsjRYgjPog8WqBHa61TfLplqN1fpdtfpdxam9IyTIw2TZFGYaBoqt5hptxfpdtepNpfpNtgpdtjp9x5vu5do9pHgb5co9pepNtHgbwWN4AVP5AhU6JLgL9dl89epNphpttgpdtipttnqd1ho9glSIkWM3snSokeTJdHda9cksphndRmqNyTweaWxOePv+WfyemAs91QYphFUmpuclhKYHRwh5V8pNNdls6iyuq72fCNvuWIueCIlbtTW2hwcFNTY2lmfpSBpNJZj8lsq91xr99nqdx4suBrqds7V5AlNm85S20lRIJVcZxZgr1Uh8NcotpbotpdpNtGfrcTKnAOKXsYOYo4XKRJcbNHfbf////t/CgnAAAAUHRSTlMAAAAAAAAAAAAAAAAAAAAAAAAAAByF2PfyxGAJLcH+9pQvJgsav/7s57hBf/3gQdO69vH18dK4fN0+GLz96uSzPCq99JArIgkagNTz7r9bB4DtcFsAAAABYktHRJUIYHqDAAAAB3RJTUUH5wIKESIRAg6dCwAAALtJREFUCNdjYGAUERUTl5CUkmZiZmFlY2CUkZULAAJ5BUUlZXYOBhXVADAIVFPX0NTiZNDWAXKCgkNCw8IjInX1GPSjomNi4+ITEpOSU1LTDBgM0zMys7JzcvPyCwqLio0YjKNKSstKyisqq6prautMGEwD6hsam5pbWtvaOzq7zBjMdbq7g3p6+/onTJw02cKSwcoaYt8UG1s7ewcuBm5HJ7B7nF1c3dx5eBn4uD08vbx9fP38+QUEhYQB5Z40RP8+e1wAAAAldEVYdGRhdGU6Y3JlYXRlADIwMjMtMDItMTBUMTc6MzM6NDUrMDA6MDCCLR1xAAAAJXRFWHRkYXRlOm1vZGlmeQAyMDIzLTAyLTEwVDE3OjI2OjU5KzAwOjAw393bowAAAABJRU5ErkJggg==\" alt=\"Open in WEkEO\"></a></div>\n",
    "    <div style=\"float:left\"><p>&emsp;</p></div>\n",
    "  </div>    \n",
    "</html>"
   ]
  },
  {
   "cell_type": "markdown",
   "metadata": {},
   "source": [
    "<div class=\"alert alert-block alert-success\">\n",
    "<h3>Learn SLSTR: Introductory</h3></div>"
   ]
  },
  {
   "cell_type": "markdown",
   "metadata": {},
   "source": [
    "<div class=\"alert alert-block alert-warning\">\n",
    "    \n",
    "<b>PREREQUISITES </b>\n",
    "    \n",
    "This notebook has the following prerequisites:\n",
    "  - **<a href=\"https://my.wekeo.eu/user-registration\" target=\"_blank\">A WEkEO account</a>** if you are using or plan to use WEkEO.\n",
    "\n",
    "There are no prerequisite notebooks for this module.\n",
    "</div>\n",
    "<hr>"
   ]
  },
  {
   "cell_type": "markdown",
   "metadata": {},
   "source": [
    "# 1.1 Accessing SLSTR data \n",
    "\n",
    "### Data used\n",
    "\n",
    "| Product Description  | WEkEO HDA ID | Wekeo metadata |\n",
    "|:--------------------:|:-------------:|:-----------------:|\n",
    "| Sentinel-3 SLSTR level-1B | EO:EUM:DAT:SENTINEL-3:SL_1_RBT___ | <a href=\"https://www.wekeo.eu/data?view=dataset&dataset=EO%3AEUM%3ADAT%3ASENTINEL-3%3ASL_1_RBT___&initial=1\" target=\"_blank\">link</a> |\n",
    "| Sentinel-3 SLSTR level-2 (NTC) | EO:EUM:DAT:SENTINEL-3:SL_2_WST___ | <a href=\"https://www.wekeo.eu/data?view=dataset&dataset=EO%3AEUM%3ADAT%3ASENTINEL-3%3ASL_2_WST___&initial=1\" target=\"_blank\">link</a> |\n",
    "\n",
    "### Learning outcomes\n",
    "\n",
    "At the end of this notebook you will know;\n",
    "* how to download data from WEkEO using the <font color=\"#138D75\">**harmonised data access (hda)**</font> client\n",
    "\n",
    "### Outline\n",
    "\n",
    "Data from SLSTR is available through multiple sources, either via a web user interface (WebUI) or through code and command line interfaces with an Application Programming Interface (API). WebUIs are useful for accessing quick-look data visualisations, and for browsing to see what is available. APIs are more useful for routine, automated and operational data access. Here we will guide you through ways you can access SLSTR data through both methods.\n",
    "\n",
    "Users should note that this notebook will use WEkEO [harmonised data access (HDA) API](#section3) to download <font color=\"#138D75\">**all**</font> of the products required for the lessons in the SLSTR introductory module. The HDA adaptor is the fastest and most suitable way of retrieving SLSTR data when working inside the WEkEO infrastructure, either on the JupyterHub or on virtual machines.\n",
    "\n",
    "<div class=\"alert alert-info\" role=\"alert\">\n",
    "\n",
    "## <a id='TOC_TOP'></a>Contents\n",
    "\n",
    "</div>\n",
    "    \n",
    " 1. [Download data via GUIs](#section1)\n",
    " 1. [The products we need](#section2)\n",
    " 1. [Downloading via the WEkEO API](#section3)\n",
    "\n",
    "<hr>"
   ]
  },
  {
   "cell_type": "markdown",
   "metadata": {},
   "source": [
    "We begin by importing all of the libraries that we need to run this notebook. If you have built your python using the environment file provided in this repository, then you should have everything you need. For more information on building environment, please see the repository **<a href=\"../README.md\" target=\"_blank\">README</a>**."
   ]
  },
  {
   "cell_type": "code",
   "execution_count": 1,
   "metadata": {},
   "outputs": [],
   "source": [
    "import configparser # a library that allows us to parse standard configuration files\n",
    "import IPython      # a library that helps us display video and HTML content\n",
    "import os           # a library that allows us access to basic operating system commands like making directories\n",
    "import json         # a library that helps us make JSON format files\n",
    "import shutil       # a library that allows us access to basic operating system commands like copy\n",
    "import zipfile      # a library that allows us to unzip zip-files.\n",
    "import hda          # a library for downloading via wekeo"
   ]
  },
  {
   "cell_type": "markdown",
   "metadata": {},
   "source": [
    "Sometimes we use configuration files to help us set some notebook parameters. The box below reads a configuration file to help us decide how large to make the videos displayed below"
   ]
  },
  {
   "cell_type": "code",
   "execution_count": 2,
   "metadata": {},
   "outputs": [],
   "source": [
    "# set defaults and overwrite with frameworks config if it exists\n",
    "config = configparser.ConfigParser()\n",
    "config[\"nbook\"] = {\"v_wd\" : \"700\", \"v_ht\" : \"450\"}\n",
    "if os.path.exists(os.path.join(os.path.dirname(os.getcwd()),\"frameworks\",\"config.ini\")):\n",
    "    config.read(os.path.join(os.path.dirname(os.getcwd()),\"frameworks\",\"config.ini\"))"
   ]
  },
  {
   "cell_type": "markdown",
   "metadata": {},
   "source": [
    "Next we will create a download directory to store the products we will download in this notebook."
   ]
  },
  {
   "cell_type": "code",
   "execution_count": 3,
   "metadata": {},
   "outputs": [],
   "source": [
    "# Create a download directory for our SLSTR products\n",
    "download_dir = os.path.join(os.getcwd(), \"products\")\n",
    "os.makedirs(download_dir, exist_ok=True)"
   ]
  },
  {
   "cell_type": "markdown",
   "metadata": {},
   "source": [
    "<div class=\"alert alert-info\" role=\"alert\">\n",
    "\n",
    "## <a id='section1'></a>1. Downloading data via GUIs\n",
    "[Back to top](#TOC_TOP)\n",
    "\n",
    "</div>"
   ]
  },
  {
   "cell_type": "markdown",
   "metadata": {},
   "source": [
    "<hr>\n",
    "\n",
    "### WEkEO\n",
    "\n",
    "WEkEO is the Copernicus Data Information and Access Service (DIAS) reference service for environmental data. It is a partnership between EUMETSAT, the European Centre for Medium-range Weather Forecasting (ECMWF), Mercator Ocean International, and the European Environment Agency (EEA). You can see an overview of the WEkEO service offering in the video below. WEkEO offers a harmonised data access (HDA) solution to a wide range of Copernicus data, including that from Sentinel-3 and associated down-stream products from the Copernicus Marine Service. The WEkEO HDA can be accessed via the <a href=\"https://www.wekeo.eu/data\" target=\"_blank\">WEkEO Data Viewer</a> and through an API, see [Downloading from WEkEO via the API](#section4).\n",
    "\n",
    "You can visit the <a href=\"https://www.wekeo.eu/data\" target=\"_blank\">WEkEO Data Viewer</a> and explore the available marine data, however this notebook will also show you how to use the HDA API - see [Downloading from WEkEO via the API](#section4) below.\n",
    "\n",
    "#### Links:\n",
    "* <a href=\"https://www.wekeo.eu/data\" target=\"_blank\">WEkEO Data Viewer</a>\n",
    "* <a href=\"https://www.wekeo.eu/docs\" target=\"_blank\">More information on WEkEO</a>"
   ]
  },
  {
   "cell_type": "code",
   "execution_count": 4,
   "metadata": {},
   "outputs": [
    {
     "data": {
      "image/jpeg": "[encoded data removed]",
      "text/html": [
       "\n",
       "        <iframe\n",
       "            width=\"800\"\n",
       "            height=\"450\"\n",
       "            src=\"https://www.youtube.com/embed/UOexmq1LdyY\"\n",
       "            frameborder=\"0\"\n",
       "            allowfullscreen\n",
       "            \n",
       "        ></iframe>\n",
       "        "
      ],
      "text/plain": [
       "<IPython.lib.display.YouTubeVideo at 0x10ba31940>"
      ]
     },
     "execution_count": 4,
     "metadata": {},
     "output_type": "execute_result"
    }
   ],
   "source": [
    "IPython.display.YouTubeVideo('UOexmq1LdyY', width=config[\"nbook\"][\"v_wd\"], height=config[\"nbook\"][\"v_ht\"])"
   ]
  },
  {
   "cell_type": "markdown",
   "metadata": {},
   "source": [
    "<div class=\"alert alert-info\" role=\"alert\">\n",
    "\n",
    "## 2. <a id='section2'></a>The products we need for this module\n",
    "[Back to top](#TOC_TOP)\n",
    "    \n",
    "</div>"
   ]
  },
  {
   "cell_type": "markdown",
   "metadata": {},
   "source": [
    "We need a number of SLSTR level-1 and level-2 products for the notebooks within the introductory part of the learn-sral module. These products are shown below, and we will retrieve these products from the WEkEO product catalogue.\n",
    "* S3A_SL_1_RBT____20220209T220650_20220209T220950_20220211T045404_0179_082_001_0540_MAR_O_NT_004.SEN3\n",
    "* S3A_SL_1_RBT____20220209T225750_20220209T230050_20220211T073550_0179_082_001_3600_MAR_O_NT_004.SEN3\n",
    "* S3A_SL_2_WST____20220209T213232_20220209T231332_20220211T074946_6059_081_385______MAR_O_NT_003.SEN3"
   ]
  },
  {
   "cell_type": "markdown",
   "metadata": {},
   "source": [
    "<hr>\n",
    "<div class=\"alert alert-info\" role=\"alert\">\n",
    "\n",
    "## 3. <a id='section3'></a>Downloading from WEkEO via the API\n",
    "[Back to top](#TOC_TOP)\n",
    "\n",
    "</div>\n"
   ]
  },
  {
   "cell_type": "markdown",
   "metadata": {},
   "source": [
    "Downloading from WEkEO harmonised data access (HDA) API is facilitated by a data access client. \n",
    "If you are currently working on the WEkEO JupyterHub, this client will already be installed. Otherwise, if you are working with the recommended Anaconda Python distribution and used the supplied environment file (environment.yml) to build this python environment (as detailed in the README), you will already have installed this. If not, you can find the source code <a href=\"https://github.com/ecmwf/hda\" target=\"_blank\">here</a>.\n",
    "\n",
    "In order to allow us to download data using the WEkEO HDA API, we need to provide our credentials. We can do this in two ways;\n",
    "* **Option 1** - by creating a configuration file (*recommended, and user here with the default configuration file*)\n",
    "* **Option 2** - by supplying our credentials directly in this script (*not recommended, but sometimes useful*)\n",
    "\n",
    "#### Option 1: creating a credentials file.\n",
    "\n",
    "By default, the HDA API expects the configuration to be called `.hdarc`, and to reside in our home directory. For most computer systems the home directory can be found at the path \\user\\username, /users/username, or /home/username depending on your operating system. In this file we need to add the following information exactly as follows;\n",
    "\n",
    "```\n",
    "url: https://wekeo-broker.apps.mercator.dpi.wekeo.eu/databroker\n",
    "user: <your_user_name>\n",
    "password: <your_password>\n",
    "```\n",
    "\n",
    "You must replace `<your_user_name>` and `<your_password>` with the information from your WEkEO account (if you don't have one yet, register <a href=\"https://www.wekeo.eu/\" target=\"_blank\">here</a>. Once you have entered these credentials in the file, the `hda` client will automatically read in the credentials from the file when you use it. Make sure to save the file without any kind of extension.\n",
    "\n",
    "If you are using the default approach you can establish an instance of the client like so;\n",
    "\n",
    "`c = hda.Client()`\n",
    "\n",
    "Alternatively, if you wish to specify your own configuration file, you can do so by adapting the code line below. The format should be the same as specified above.\n",
    "\n",
    "`c = hda.Client(hda.Configuration(path=<your_config_file>)`\n",
    "\n",
    "Where you should replace `<your_config_file>` with the path to your configuration file, for example;\n",
    "* \"myconfig.txt\" if it is in this directory.\n",
    "* \"/users/username/myconfig.txt\" as an example of an absolute path to a file on Linux and/or OSx.\n",
    "* os.path.join(\"users\",\"username\",\"myconfig.txt\") as an example of an absolute path on any platform.\n",
    "* os.path.join(os.path.expanduser(\"~\"), \"myconfig.txt\")) if it is in your home directory, on all operating systems.\n",
    "\n",
    "#### Option 2: provide credentials directly\n",
    "\n",
    "You can provide your credentials directly as follows;\n",
    "\n",
    "`c = hda.Client(hda.Configuration(url=\"https://wekeo-broker.apps.mercator.dpi.wekeo.eu/databroker\",\n",
    "                                 user=\"<your_user_name>\",\n",
    "                                 password=\"<your_password>\"))`\n",
    "                                 \n",
    "*Note: this method is convenient in the short term, but is not really recommended as you have to put your user name and password in this notebook, and run the risk of accidentally sharing them. This method also requires you to authenticate on a notebook-by-notebook basis.*"
   ]
  },
  {
   "cell_type": "code",
   "execution_count": 5,
   "metadata": {},
   "outputs": [],
   "source": [
    "c = hda.Client()"
   ]
  },
  {
   "cell_type": "markdown",
   "metadata": {},
   "source": [
    "The WEkEO HDA client accepts requests as JSON queries. These have a specific format, which may look complex, but you can build on the examples you can find in the GUI, available under the **Show API request** button;\n",
    "\n",
    "<img src='../img/WEkEO_show_api_SLSTR.png' align='centre' width='75%'></img>\n"
   ]
  },
  {
   "cell_type": "markdown",
   "metadata": {},
   "source": [
    "WEkEO allows you to search for data in time and space, but not by product name. However, we can work around this by providing the exact time stamps for our data. Below, we have a query for the first item in our product list, the SLSTR level 1B product. You can see that the start and end times match the filename times, and the `producttype`, and `timeliness` correspond to those in the earlier specified filename too."
   ]
  },
  {
   "cell_type": "code",
   "execution_count": 6,
   "metadata": {},
   "outputs": [],
   "source": [
    "query = {\n",
    "  \"datasetId\": \"EO:EUM:DAT:SENTINEL-3:SL_1_RBT___\",\n",
    "  \"dateRangeSelectValues\": [\n",
    "    {\n",
    "      \"name\": \"position\",\n",
    "      \"start\": \"2022-02-09T22:06:50.000Z\",\n",
    "      \"end\": \"2022-02-09T22:06:51.000Z\"\n",
    "    }\n",
    "  ],\n",
    "  \"stringChoiceValues\": [{\"name\": \"producttype\", \"value\": \"SL_1_RBT___\"},\n",
    "                         {\"name\": \"timeliness\", \"value\": \"NT\"},\n",
    "                         {\"name\": \"relorbit\", \"value\": \"001\"}\n",
    "  ]\n",
    "}"
   ]
  },
  {
   "cell_type": "markdown",
   "metadata": {},
   "source": [
    "This next section of code prints the names of the files that have been found during the search..."
   ]
  },
  {
   "cell_type": "code",
   "execution_count": 7,
   "metadata": {},
   "outputs": [
    {
     "name": "stdout",
     "output_type": "stream",
     "text": [
      "Found: S3A_SL_1_RBT____20220209T220650_20220209T220950_20220211T045404_0179_082_001_0540_MAR_O_NT_004.SEN3\n"
     ]
    }
   ],
   "source": [
    "matches = c.search(query)\n",
    "for match in matches.results:\n",
    "    fdst = match['filename']\n",
    "    print(f\"Found: {fdst}\")"
   ]
  },
  {
   "cell_type": "markdown",
   "metadata": {},
   "source": [
    "We can see that we have found the file we are interested in, so the next section of code can be used to download it..."
   ]
  },
  {
   "cell_type": "code",
   "execution_count": 8,
   "metadata": {},
   "outputs": [
    {
     "name": "stderr",
     "output_type": "stream",
     "text": [
      "                                                                                \r"
     ]
    }
   ],
   "source": [
    "matches.download()"
   ]
  },
  {
   "cell_type": "markdown",
   "metadata": {},
   "source": [
    "Finally, we can unzip the file."
   ]
  },
  {
   "cell_type": "code",
   "execution_count": 9,
   "metadata": {},
   "outputs": [
    {
     "name": "stdout",
     "output_type": "stream",
     "text": [
      "Unzipping of product S3A_SL_1_RBT____20220209T220650_20220209T220950_20220211T045404_0179_082_001_0540_MAR_O_NT_004.SEN3 finished.\n"
     ]
    }
   ],
   "source": [
    "with zipfile.ZipFile(fdst, 'r') as zip_ref:\n",
    "    zip_ref.extractall(download_dir)\n",
    "    print(f'Unzipping of product {fdst} finished.')\n",
    "os.remove(fdst)"
   ]
  },
  {
   "cell_type": "markdown",
   "metadata": {},
   "source": [
    "Now lets download our other two products. We will need to set up query files for both."
   ]
  },
  {
   "cell_type": "code",
   "execution_count": 10,
   "metadata": {},
   "outputs": [],
   "source": [
    "query_RBT = {\n",
    "  \"datasetId\": \"EO:EUM:DAT:SENTINEL-3:SL_1_RBT___\",\n",
    "  \"dateRangeSelectValues\": [{\"name\": \"position\", \"start\": \"2022-02-09T22:57:50.000Z\", \"end\": \"2022-02-09T22:57:51.000Z\"}],\n",
    "  \"stringChoiceValues\": [{\"name\": \"producttype\", \"value\": \"SL_1_RBT___\"}, {\"name\": \"timeliness\", \"value\": \"NT\"}, {\"name\": \"relorbit\", \"value\": \"001\"}]\n",
    "}\n",
    "\n",
    "query_WST = {\n",
    "  \"datasetId\": \"EO:EUM:DAT:SENTINEL-3:SL_2_WST___\",\n",
    "  \"dateRangeSelectValues\": [{\"name\": \"position\", \"start\": \"2022-02-09T21:32:32.000Z\", \"end\": \"2022-02-09T21:32:33.000Z\"}],\n",
    "  \"stringChoiceValues\": [{\"name\": \"producttype\", \"value\": \"SL_2_WST___\"}, {\"name\": \"timeliness\", \"value\": \"NT\"}, {\"name\": \"relorbit\", \"value\": \"385\"}]\n",
    "}\n",
    "\n",
    "queries = [query_RBT, query_WST]"
   ]
  },
  {
   "cell_type": "markdown",
   "metadata": {},
   "source": [
    "And again we can search for, and download the results..."
   ]
  },
  {
   "cell_type": "code",
   "execution_count": 11,
   "metadata": {
    "scrolled": true
   },
   "outputs": [
    {
     "name": "stderr",
     "output_type": "stream",
     "text": [
      "\n",
      "  0%|                                                | 0.00/387M [00:00<?, ?B/s]\u001b[A\n",
      "  0%|                                        | 255k/387M [00:00<02:35, 2.61MB/s]\u001b[A\n",
      "  0%|                                        | 511k/387M [00:00<03:11, 2.12MB/s]\u001b[A\n",
      "  0%|                                        | 724k/387M [00:00<03:25, 1.97MB/s]\u001b[A\n",
      "  0%|                                        | 920k/387M [00:00<03:31, 1.92MB/s]\u001b[A\n",
      "  0%|                                       | 1.08M/387M [00:00<03:35, 1.88MB/s]\u001b[A\n",
      "  0%|▏                                      | 1.38M/387M [00:00<02:59, 2.25MB/s]\u001b[A\n",
      "  0%|▏                                      | 1.76M/387M [00:00<02:29, 2.71MB/s]\u001b[A\n",
      "  1%|▏                                      | 2.02M/387M [00:01<03:19, 2.02MB/s]\u001b[A\n",
      "  1%|▏                                      | 2.24M/387M [00:01<03:26, 1.95MB/s]\u001b[A\n",
      "  1%|▏                                      | 2.45M/387M [00:01<03:22, 1.99MB/s]\u001b[A\n",
      "  1%|▎                                      | 2.68M/387M [00:01<03:09, 2.12MB/s]\u001b[A\n",
      "  1%|▎                                      | 2.93M/387M [00:01<03:00, 2.23MB/s]\u001b[A\n",
      "  1%|▎                                      | 3.20M/387M [00:01<02:49, 2.37MB/s]\u001b[A\n",
      "  1%|▎                                      | 3.46M/387M [00:01<02:43, 2.47MB/s]\u001b[A\n",
      "  1%|▎                                      | 3.70M/387M [00:01<02:49, 2.38MB/s]\u001b[A\n",
      "  1%|▍                                      | 3.93M/387M [00:01<03:30, 1.90MB/s]\u001b[A\n",
      "  1%|▍                                      | 4.13M/387M [00:02<03:33, 1.88MB/s]\u001b[A\n",
      "  1%|▍                                      | 4.32M/387M [00:02<03:47, 1.77MB/s]\u001b[A\n",
      "  1%|▍                                      | 4.64M/387M [00:02<03:09, 2.12MB/s]\u001b[A\n",
      "  1%|▌                                      | 5.02M/387M [00:02<02:34, 2.60MB/s]\u001b[A\n",
      "  1%|▌                                      | 5.44M/387M [00:02<02:08, 3.10MB/s]\u001b[A\n",
      "  2%|▌                                      | 5.92M/387M [00:02<01:49, 3.64MB/s]\u001b[A\n",
      "  2%|▋                                      | 6.29M/387M [00:02<01:57, 3.38MB/s]\u001b[A\n",
      "  2%|▋                                      | 6.62M/387M [00:02<02:05, 3.17MB/s]\u001b[A\n",
      "  2%|▋                                      | 7.21M/387M [00:02<01:41, 3.94MB/s]\u001b[A\n",
      "  2%|▊                                      | 7.84M/387M [00:03<01:25, 4.65MB/s]\u001b[A\n",
      "  2%|▊                                      | 8.53M/387M [00:03<01:14, 5.35MB/s]\u001b[A\n",
      "  2%|▉                                      | 9.22M/387M [00:03<01:07, 5.88MB/s]\u001b[A\n",
      "  3%|█                                      | 9.97M/387M [00:03<01:01, 6.45MB/s]\u001b[A\n",
      "  3%|█                                      | 10.9M/387M [00:03<00:53, 7.38MB/s]\u001b[A\n",
      "  3%|█▏                                     | 11.9M/387M [00:03<00:48, 8.15MB/s]\u001b[A\n",
      "  3%|█▎                                     | 12.9M/387M [00:03<00:43, 8.98MB/s]\u001b[A\n",
      "  4%|█▍                                     | 13.9M/387M [00:03<00:41, 9.47MB/s]\u001b[A\n",
      "  4%|█▌                                     | 15.0M/387M [00:03<00:38, 10.2MB/s]\u001b[A\n",
      "  4%|█▋                                     | 16.2M/387M [00:03<00:36, 10.8MB/s]\u001b[A\n",
      "  4%|█▋                                     | 17.3M/387M [00:04<00:35, 10.9MB/s]\u001b[A\n",
      "  5%|█▊                                     | 18.4M/387M [00:04<00:35, 10.7MB/s]\u001b[A\n",
      "  5%|█▉                                     | 19.4M/387M [00:04<00:35, 10.8MB/s]\u001b[A\n",
      "  5%|██                                     | 20.7M/387M [00:04<00:32, 11.8MB/s]\u001b[A\n",
      "  6%|██▏                                    | 21.9M/387M [00:04<00:35, 10.9MB/s]\u001b[A\n",
      "  6%|██▎                                    | 22.9M/387M [00:04<00:35, 10.9MB/s]\u001b[A\n",
      "  6%|██▍                                    | 24.0M/387M [00:04<00:35, 10.8MB/s]\u001b[A\n",
      "  6%|██▌                                    | 25.0M/387M [00:04<00:35, 10.8MB/s]\u001b[A\n",
      "  7%|██▋                                    | 26.0M/387M [00:04<00:36, 10.3MB/s]\u001b[A\n",
      "  7%|██▋                                    | 27.0M/387M [00:05<00:37, 10.1MB/s]\u001b[A\n",
      "  7%|██▊                                    | 28.0M/387M [00:05<00:37, 10.0MB/s]\u001b[A\n",
      "  7%|██▉                                    | 29.0M/387M [00:05<00:37, 9.93MB/s]\u001b[A\n",
      "  8%|███                                    | 29.9M/387M [00:05<00:37, 10.0MB/s]\u001b[A\n",
      "  8%|███                                    | 30.9M/387M [00:05<00:37, 9.92MB/s]\u001b[A\n",
      "  8%|███▏                                   | 32.0M/387M [00:05<00:35, 10.4MB/s]\u001b[A\n",
      "  9%|███▎                                   | 33.0M/387M [00:05<00:35, 10.5MB/s]\u001b[A\n",
      "  9%|███▍                                   | 34.0M/387M [00:05<00:35, 10.3MB/s]\u001b[A\n",
      "  9%|███▌                                   | 35.1M/387M [00:05<00:35, 10.4MB/s]\u001b[A\n",
      "  9%|███▋                                   | 36.1M/387M [00:05<00:35, 10.5MB/s]\u001b[A\n",
      " 10%|███▊                                   | 37.2M/387M [00:06<00:33, 10.9MB/s]\u001b[A\n",
      " 10%|███▊                                   | 38.3M/387M [00:06<00:34, 10.5MB/s]\u001b[A\n",
      " 10%|███▉                                   | 39.5M/387M [00:06<00:32, 11.1MB/s]\u001b[A\n",
      " 10%|████                                   | 40.6M/387M [00:06<00:32, 11.3MB/s]\u001b[A\n",
      " 11%|████▏                                  | 41.7M/387M [00:06<00:32, 11.0MB/s]\u001b[A\n",
      " 11%|████▎                                  | 42.7M/387M [00:06<00:33, 10.8MB/s]\u001b[A\n",
      " 11%|████▍                                  | 43.8M/387M [00:06<00:32, 10.9MB/s]\u001b[A\n",
      " 12%|████▌                                  | 44.8M/387M [00:06<00:34, 10.5MB/s]\u001b[A\n",
      " 12%|████▋                                  | 46.0M/387M [00:06<00:32, 10.9MB/s]\u001b[A\n",
      " 12%|████▋                                  | 47.1M/387M [00:07<00:32, 11.1MB/s]\u001b[A\n",
      " 12%|████▊                                  | 48.1M/387M [00:07<00:39, 8.99MB/s]\u001b[A\n",
      " 13%|████▉                                  | 49.1M/387M [00:07<00:41, 8.45MB/s]\u001b[A\n",
      " 13%|█████                                  | 49.9M/387M [00:07<00:42, 8.33MB/s]\u001b[A\n",
      " 13%|█████▏                                 | 51.0M/387M [00:07<00:38, 9.26MB/s]\u001b[A\n",
      " 13%|█████▎                                 | 52.1M/387M [00:07<00:36, 9.68MB/s]\u001b[A\n",
      " 14%|█████▎                                 | 53.0M/387M [00:07<01:00, 5.80MB/s]\u001b[A\n",
      " 14%|█████▍                                 | 53.8M/387M [00:08<01:06, 5.22MB/s]\u001b[A\n",
      " 14%|█████▌                                 | 54.7M/387M [00:08<00:59, 5.90MB/s]\u001b[A\n",
      " 14%|█████▌                                 | 55.6M/387M [00:08<00:51, 6.79MB/s]\u001b[A\n",
      " 15%|█████▋                                 | 56.6M/387M [00:08<00:45, 7.58MB/s]\u001b[A\n",
      " 15%|█████▊                                 | 57.6M/387M [00:08<00:42, 8.19MB/s]\u001b[A\n",
      " 15%|█████▉                                 | 58.6M/387M [00:08<00:39, 8.74MB/s]\u001b[A\n",
      " 15%|█████▉                                 | 59.5M/387M [00:08<00:38, 8.92MB/s]\u001b[A\n",
      " 16%|██████                                 | 60.5M/387M [00:08<00:36, 9.50MB/s]\u001b[A\n",
      " 16%|██████▏                                | 61.5M/387M [00:08<00:35, 9.58MB/s]\u001b[A\n",
      " 16%|██████▎                                | 62.5M/387M [00:09<00:34, 9.96MB/s]\u001b[A\n",
      " 16%|██████▍                                | 63.5M/387M [00:09<00:34, 9.90MB/s]\u001b[A\n",
      " 17%|██████▌                                | 64.5M/387M [00:09<00:33, 10.1MB/s]\u001b[A\n",
      " 17%|██████▌                                | 65.6M/387M [00:09<00:32, 10.3MB/s]\u001b[A\n",
      " 17%|██████▋                                | 66.6M/387M [00:09<00:33, 9.98MB/s]\u001b[A\n",
      " 17%|██████▊                                | 67.7M/387M [00:09<00:32, 10.4MB/s]\u001b[A\n",
      " 18%|██████▉                                | 68.7M/387M [00:09<00:31, 10.5MB/s]\u001b[A\n",
      " 18%|███████                                | 69.7M/387M [00:09<00:32, 10.2MB/s]\u001b[A\n",
      " 18%|███████                                | 70.7M/387M [00:09<00:33, 10.0MB/s]\u001b[A\n",
      " 19%|███████▏                               | 71.7M/387M [00:10<00:31, 10.3MB/s]\u001b[A\n",
      " 19%|███████▎                               | 72.7M/387M [00:10<00:32, 10.1MB/s]\u001b[A\n",
      " 19%|███████▍                               | 73.8M/387M [00:10<00:31, 10.5MB/s]\u001b[A\n",
      " 19%|███████▌                               | 74.8M/387M [00:10<00:31, 10.4MB/s]\u001b[A\n",
      " 20%|███████▋                               | 75.8M/387M [00:10<00:32, 10.1MB/s]\u001b[A\n",
      " 20%|███████▊                               | 76.9M/387M [00:10<00:30, 10.5MB/s]\u001b[A\n",
      " 20%|███████▉                               | 78.3M/387M [00:10<00:27, 11.7MB/s]\u001b[A\n",
      " 21%|████████                               | 79.4M/387M [00:10<00:27, 11.7MB/s]\u001b[A\n",
      " 21%|████████▏                              | 80.6M/387M [00:10<00:27, 11.6MB/s]\u001b[A\n",
      " 21%|████████▏                              | 81.7M/387M [00:10<00:27, 11.6MB/s]\u001b[A\n",
      " 21%|████████▎                              | 82.8M/387M [00:11<00:27, 11.7MB/s]\u001b[A\n",
      " 22%|████████▍                              | 84.0M/387M [00:11<00:27, 11.4MB/s]\u001b[A\n",
      " 22%|████████▌                              | 85.0M/387M [00:11<00:27, 11.4MB/s]\u001b[A\n",
      " 22%|████████▋                              | 86.2M/387M [00:11<00:27, 11.4MB/s]\u001b[A\n",
      " 23%|████████▊                              | 87.3M/387M [00:11<00:28, 11.1MB/s]\u001b[A\n",
      " 23%|████████▉                              | 88.4M/387M [00:11<00:28, 11.1MB/s]\u001b[A\n",
      " 23%|█████████                              | 89.4M/387M [00:11<00:28, 10.9MB/s]\u001b[A\n",
      " 23%|█████████▏                             | 90.6M/387M [00:11<00:27, 11.3MB/s]\u001b[A\n",
      " 24%|█████████▏                             | 91.7M/387M [00:11<00:26, 11.5MB/s]\u001b[A\n",
      " 24%|█████████▎                             | 92.9M/387M [00:11<00:26, 11.5MB/s]\u001b[A\n",
      " 24%|█████████▍                             | 94.0M/387M [00:12<00:26, 11.5MB/s]\u001b[A\n",
      " 25%|█████████▌                             | 95.1M/387M [00:12<00:26, 11.5MB/s]\u001b[A\n",
      " 25%|█████████▋                             | 96.2M/387M [00:12<00:28, 10.6MB/s]\u001b[A\n",
      " 25%|█████████▊                             | 97.3M/387M [00:12<00:34, 8.68MB/s]\u001b[A\n",
      " 25%|█████████▉                             | 98.1M/387M [00:12<00:41, 7.23MB/s]\u001b[A\n",
      " 26%|██████████                             | 99.4M/387M [00:12<00:35, 8.48MB/s]\u001b[A\n",
      " 26%|██████████▍                             | 101M/387M [00:12<00:31, 9.54MB/s]\u001b[A\n",
      " 26%|██████████▌                             | 102M/387M [00:12<00:30, 9.77MB/s]\u001b[A\n",
      " 27%|██████████▌                             | 103M/387M [00:13<00:28, 10.3MB/s]\u001b[A\n",
      " 27%|██████████▋                             | 104M/387M [00:13<00:27, 10.9MB/s]\u001b[A\n",
      " 27%|██████████▊                             | 105M/387M [00:13<00:26, 11.0MB/s]\u001b[A\n",
      " 27%|██████████▉                             | 106M/387M [00:13<00:26, 11.0MB/s]\u001b[A\n",
      " 28%|███████████                             | 107M/387M [00:13<00:27, 10.7MB/s]\u001b[A\n",
      " 28%|███████████▏                            | 108M/387M [00:13<00:27, 10.6MB/s]\u001b[A\n",
      " 28%|███████████▎                            | 109M/387M [00:13<00:26, 10.9MB/s]\u001b[A\n",
      " 29%|███████████▍                            | 110M/387M [00:13<00:26, 11.0MB/s]\u001b[A\n",
      " 29%|███████████▌                            | 111M/387M [00:13<00:25, 11.2MB/s]\u001b[A\n",
      " 29%|███████████▋                            | 113M/387M [00:14<00:26, 10.9MB/s]\u001b[A\n",
      " 29%|███████████▊                            | 114M/387M [00:14<00:25, 11.3MB/s]\u001b[A\n",
      " 30%|███████████▉                            | 115M/387M [00:14<00:23, 12.4MB/s]\u001b[A\n",
      " 30%|████████████                            | 116M/387M [00:14<00:22, 12.4MB/s]\u001b[A\n",
      " 30%|████████████▏                           | 118M/387M [00:14<00:23, 12.0MB/s]\u001b[A\n",
      " 31%|████████████▎                           | 119M/387M [00:14<00:25, 11.1MB/s]\u001b[A\n",
      " 31%|████████████▍                           | 120M/387M [00:14<00:24, 11.2MB/s]\u001b[A\n",
      " 31%|████████████▍                           | 121M/387M [00:14<00:25, 10.9MB/s]\u001b[A\n",
      " 32%|████████████▌                           | 122M/387M [00:14<00:25, 11.1MB/s]\u001b[A\n",
      " 32%|████████████▋                           | 123M/387M [00:15<00:26, 10.5MB/s]\u001b[A\n",
      " 32%|████████████▊                           | 124M/387M [00:15<00:25, 10.8MB/s]\u001b[A\n",
      " 32%|████████████▉                           | 125M/387M [00:15<00:24, 11.2MB/s]\u001b[A\n",
      " 33%|█████████████                           | 126M/387M [00:15<00:24, 11.0MB/s]\u001b[A\n",
      " 33%|█████████████▏                          | 127M/387M [00:15<00:24, 11.1MB/s]\u001b[A\n",
      " 33%|█████████████▎                          | 129M/387M [00:15<00:24, 10.9MB/s]\u001b[A\n",
      " 34%|█████████████▍                          | 130M/387M [00:15<00:24, 10.9MB/s]\u001b[A\n",
      " 34%|█████████████▌                          | 131M/387M [00:15<00:24, 11.0MB/s]\u001b[A\n",
      " 34%|█████████████▋                          | 132M/387M [00:15<00:24, 11.0MB/s]\u001b[A\n",
      " 34%|█████████████▋                          | 133M/387M [00:15<00:24, 11.1MB/s]\u001b[A\n",
      " 35%|█████████████▊                          | 134M/387M [00:16<00:28, 9.41MB/s]\u001b[A\n",
      " 35%|█████████████▉                          | 135M/387M [00:16<00:25, 10.3MB/s]\u001b[A\n",
      " 35%|██████████████                          | 136M/387M [00:16<00:29, 9.00MB/s]\u001b[A\n",
      " 35%|██████████████▏                         | 137M/387M [00:16<00:34, 7.65MB/s]\u001b[A\n",
      " 36%|██████████████▎                         | 138M/387M [00:16<00:40, 6.52MB/s]\u001b[A\n",
      " 36%|██████████████▎                         | 139M/387M [00:16<00:39, 6.67MB/s]\u001b[A\n",
      " 36%|██████████████▍                         | 139M/387M [00:16<00:39, 6.55MB/s]\u001b[A\n",
      " 36%|██████████████▍                         | 140M/387M [00:17<00:40, 6.39MB/s]\u001b[A\n",
      " 36%|██████████████▌                         | 141M/387M [00:17<00:41, 6.28MB/s]\u001b[A\n",
      " 36%|██████████████▌                         | 141M/387M [00:17<00:41, 6.20MB/s]\u001b[A\n",
      " 37%|██████████████▋                         | 142M/387M [00:17<00:36, 6.95MB/s]\u001b[A\n",
      " 37%|██████████████▊                         | 143M/387M [00:17<00:37, 6.76MB/s]\u001b[A\n",
      " 37%|██████████████▊                         | 143M/387M [00:17<00:38, 6.55MB/s]\u001b[A\n",
      " 37%|██████████████▉                         | 144M/387M [00:17<00:40, 6.34MB/s]\u001b[A\n",
      " 38%|███████████████                         | 145M/387M [00:17<00:31, 8.16MB/s]\u001b[A\n",
      " 38%|███████████████▏                        | 147M/387M [00:17<00:25, 10.0MB/s]\u001b[A\n",
      " 38%|███████████████▎                        | 148M/387M [00:18<00:21, 11.5MB/s]\u001b[A\n",
      " 39%|███████████████▍                        | 150M/387M [00:18<00:19, 12.5MB/s]\u001b[A\n",
      " 39%|███████████████▌                        | 151M/387M [00:18<00:18, 13.2MB/s]\u001b[A\n",
      " 39%|███████████████▊                        | 152M/387M [00:18<00:17, 13.9MB/s]\u001b[A\n",
      " 40%|███████████████▉                        | 154M/387M [00:18<00:17, 14.3MB/s]\u001b[A\n",
      " 40%|████████████████                        | 155M/387M [00:18<00:16, 14.4MB/s]\u001b[A\n",
      " 41%|████████████████▏                       | 157M/387M [00:18<00:16, 14.5MB/s]\u001b[A\n",
      " 41%|████████████████▎                       | 158M/387M [00:18<00:16, 14.7MB/s]\u001b[A\n",
      " 41%|████████████████▌                       | 160M/387M [00:18<00:15, 14.9MB/s]\u001b[A\n",
      " 42%|████████████████▋                       | 161M/387M [00:18<00:15, 15.0MB/s]\u001b[A\n",
      " 42%|████████████████▊                       | 163M/387M [00:19<00:15, 14.9MB/s]\u001b[A\n",
      " 42%|████████████████▉                       | 164M/387M [00:19<00:15, 15.0MB/s]\u001b[A\n",
      " 43%|█████████████████                       | 165M/387M [00:19<00:15, 15.1MB/s]\u001b[A\n",
      " 43%|█████████████████▎                      | 167M/387M [00:19<00:15, 15.2MB/s]\u001b[A\n",
      " 44%|█████████████████▍                      | 168M/387M [00:19<00:15, 15.2MB/s]\u001b[A\n",
      " 44%|█████████████████▌                      | 170M/387M [00:19<00:14, 15.3MB/s]\u001b[A\n",
      " 44%|█████████████████▋                      | 171M/387M [00:19<00:14, 15.3MB/s]\u001b[A\n",
      " 45%|█████████████████▉                      | 173M/387M [00:19<00:14, 15.4MB/s]\u001b[A\n",
      " 45%|██████████████████                      | 174M/387M [00:19<00:14, 15.4MB/s]\u001b[A\n",
      " 45%|██████████████████▏                     | 176M/387M [00:19<00:14, 15.4MB/s]\u001b[A\n",
      " 46%|██████████████████▎                     | 177M/387M [00:20<00:14, 15.3MB/s]\u001b[A\n",
      " 46%|██████████████████▍                     | 179M/387M [00:20<00:14, 15.3MB/s]\u001b[A\n",
      " 47%|██████████████████▋                     | 180M/387M [00:20<00:14, 15.4MB/s]\u001b[A\n",
      " 47%|██████████████████▊                     | 182M/387M [00:20<00:14, 15.4MB/s]\u001b[A\n",
      " 47%|██████████████████▉                     | 183M/387M [00:20<00:13, 15.3MB/s]\u001b[A\n",
      " 48%|███████████████████                     | 185M/387M [00:20<00:13, 15.3MB/s]\u001b[A\n",
      " 48%|███████████████████▏                    | 186M/387M [00:20<00:14, 14.8MB/s]\u001b[A\n",
      " 49%|███████████████████▍                    | 188M/387M [00:20<00:13, 15.3MB/s]\u001b[A\n",
      " 49%|███████████████████▌                    | 189M/387M [00:20<00:13, 15.3MB/s]\u001b[A\n",
      " 49%|███████████████████▋                    | 191M/387M [00:20<00:13, 15.2MB/s]\u001b[A\n",
      " 50%|███████████████████▊                    | 192M/387M [00:21<00:13, 15.3MB/s]\u001b[A\n",
      " 50%|████████████████████                    | 194M/387M [00:21<00:13, 15.3MB/s]\u001b[A\n",
      " 50%|████████████████████▏                   | 195M/387M [00:21<00:13, 15.4MB/s]\u001b[A\n"
     ]
    },
    {
     "name": "stderr",
     "output_type": "stream",
     "text": [
      " 51%|████████████████████▎                   | 196M/387M [00:21<00:13, 15.4MB/s]\u001b[A\n",
      " 51%|████████████████████▍                   | 198M/387M [00:21<00:12, 15.3MB/s]\u001b[A\n",
      " 52%|████████████████████▌                   | 199M/387M [00:21<00:12, 15.4MB/s]\u001b[A\n",
      " 52%|████████████████████▊                   | 201M/387M [00:21<00:12, 15.4MB/s]\u001b[A\n",
      " 52%|████████████████████▉                   | 202M/387M [00:21<00:12, 15.4MB/s]\u001b[A\n",
      " 53%|█████████████████████                   | 204M/387M [00:21<00:12, 15.4MB/s]\u001b[A\n",
      " 53%|█████████████████████▏                  | 205M/387M [00:21<00:12, 15.3MB/s]\u001b[A\n",
      " 53%|█████████████████████▍                  | 207M/387M [00:22<00:12, 15.3MB/s]\u001b[A\n",
      " 54%|█████████████████████▌                  | 208M/387M [00:22<00:12, 15.3MB/s]\u001b[A\n",
      " 54%|█████████████████████▋                  | 210M/387M [00:22<00:12, 15.3MB/s]\u001b[A\n",
      " 55%|█████████████████████▊                  | 211M/387M [00:22<00:11, 15.4MB/s]\u001b[A\n",
      " 55%|█████████████████████▉                  | 213M/387M [00:22<00:11, 15.4MB/s]\u001b[A\n",
      " 55%|██████████████████████▏                 | 214M/387M [00:22<00:11, 15.4MB/s]\u001b[A\n",
      " 56%|██████████████████████▎                 | 216M/387M [00:22<00:11, 15.3MB/s]\u001b[A\n",
      " 56%|██████████████████████▍                 | 217M/387M [00:22<00:11, 15.3MB/s]\u001b[A\n",
      " 56%|██████████████████████▌                 | 218M/387M [00:22<00:11, 15.4MB/s]\u001b[A\n",
      " 57%|██████████████████████▋                 | 220M/387M [00:22<00:11, 15.4MB/s]\u001b[A\n",
      " 57%|██████████████████████▉                 | 221M/387M [00:23<00:11, 15.4MB/s]\u001b[A\n",
      " 58%|███████████████████████                 | 223M/387M [00:23<00:11, 15.4MB/s]\u001b[A\n",
      " 58%|███████████████████████▏                | 224M/387M [00:23<00:11, 15.4MB/s]\u001b[A\n",
      " 58%|███████████████████████▎                | 226M/387M [00:23<00:11, 15.3MB/s]\u001b[A\n",
      " 59%|███████████████████████▌                | 227M/387M [00:23<00:10, 15.4MB/s]\u001b[A\n",
      " 59%|███████████████████████▋                | 229M/387M [00:23<00:10, 15.3MB/s]\u001b[A\n",
      " 60%|███████████████████████▊                | 230M/387M [00:23<00:13, 12.5MB/s]\u001b[A\n",
      " 60%|███████████████████████▉                | 232M/387M [00:23<00:12, 13.3MB/s]\u001b[A\n",
      " 60%|████████████████████████                | 233M/387M [00:23<00:11, 13.5MB/s]\u001b[A\n",
      " 61%|████████████████████████▏               | 234M/387M [00:24<00:12, 13.0MB/s]\u001b[A\n",
      " 61%|████████████████████████▍               | 236M/387M [00:24<00:11, 13.3MB/s]\u001b[A\n",
      " 61%|████████████████████████▌               | 237M/387M [00:24<00:11, 13.5MB/s]\u001b[A\n",
      " 62%|████████████████████████▋               | 238M/387M [00:24<00:11, 13.2MB/s]\u001b[A\n",
      " 62%|████████████████████████▊               | 240M/387M [00:24<00:12, 12.1MB/s]\u001b[A\n",
      " 62%|████████████████████████▉               | 241M/387M [00:24<00:13, 11.3MB/s]\u001b[A\n",
      " 63%|█████████████████████████               | 242M/387M [00:24<00:12, 11.9MB/s]\u001b[A\n",
      " 63%|█████████████████████████▏              | 244M/387M [00:24<00:12, 12.4MB/s]\u001b[A\n",
      " 63%|█████████████████████████▎              | 245M/387M [00:24<00:11, 12.6MB/s]\u001b[A\n",
      " 64%|█████████████████████████▍              | 246M/387M [00:25<00:18, 7.96MB/s]\u001b[A\n",
      " 64%|█████████████████████████▌              | 247M/387M [00:25<00:20, 7.27MB/s]\u001b[A\n",
      " 64%|█████████████████████████▋              | 248M/387M [00:25<00:20, 7.20MB/s]\u001b[A\n",
      " 64%|█████████████████████████▊              | 249M/387M [00:25<00:17, 8.41MB/s]\u001b[A\n",
      " 65%|█████████████████████████▉              | 250M/387M [00:25<00:15, 9.47MB/s]\u001b[A\n",
      " 65%|██████████████████████████              | 252M/387M [00:25<00:13, 10.2MB/s]\u001b[A\n",
      " 65%|██████████████████████████▏             | 253M/387M [00:25<00:12, 10.9MB/s]\u001b[A\n",
      " 66%|██████████████████████████▎             | 254M/387M [00:26<00:13, 10.2MB/s]\u001b[A\n",
      " 66%|██████████████████████████▎             | 255M/387M [00:26<00:14, 9.58MB/s]\u001b[A\n",
      " 66%|██████████████████████████▍             | 256M/387M [00:26<00:13, 10.0MB/s]\u001b[A\n",
      " 66%|██████████████████████████▌             | 257M/387M [00:26<00:12, 10.8MB/s]\u001b[A\n",
      " 67%|██████████████████████████▋             | 258M/387M [00:26<00:12, 11.2MB/s]\u001b[A\n",
      " 67%|██████████████████████████▊             | 260M/387M [00:26<00:11, 11.6MB/s]\u001b[A\n",
      " 67%|██████████████████████████▉             | 261M/387M [00:26<00:11, 11.8MB/s]\u001b[A\n",
      " 68%|███████████████████████████             | 262M/387M [00:26<00:10, 12.0MB/s]\u001b[A\n",
      " 68%|███████████████████████████▏            | 263M/387M [00:26<00:10, 12.1MB/s]\u001b[A\n",
      " 68%|███████████████████████████▎            | 264M/387M [00:26<00:10, 12.2MB/s]\u001b[A\n",
      " 69%|███████████████████████████▍            | 266M/387M [00:27<00:10, 12.2MB/s]\u001b[A\n",
      " 69%|███████████████████████████▌            | 267M/387M [00:27<00:10, 12.2MB/s]\u001b[A\n",
      " 69%|███████████████████████████▋            | 268M/387M [00:27<00:10, 12.2MB/s]\u001b[A\n",
      " 70%|███████████████████████████▊            | 269M/387M [00:27<00:10, 12.2MB/s]\u001b[A\n",
      " 70%|███████████████████████████▉            | 270M/387M [00:27<00:10, 12.2MB/s]\u001b[A\n",
      " 70%|████████████████████████████            | 271M/387M [00:27<00:09, 12.2MB/s]\u001b[A\n",
      " 70%|████████████████████████████▏           | 273M/387M [00:27<00:09, 12.2MB/s]\u001b[A\n",
      " 71%|████████████████████████████▎           | 274M/387M [00:27<00:10, 11.5MB/s]\u001b[A\n",
      " 71%|████████████████████████████▍           | 275M/387M [00:27<00:11, 9.91MB/s]\u001b[A\n",
      " 71%|████████████████████████████▌           | 276M/387M [00:28<00:16, 6.99MB/s]\u001b[A\n",
      " 72%|████████████████████████████▌           | 277M/387M [00:28<00:16, 7.07MB/s]\u001b[A\n",
      " 72%|████████████████████████████▋           | 277M/387M [00:28<00:17, 6.49MB/s]\u001b[A\n",
      " 72%|████████████████████████████▊           | 278M/387M [00:28<00:18, 6.16MB/s]\u001b[A\n",
      " 72%|████████████████████████████▊           | 279M/387M [00:28<00:16, 6.80MB/s]\u001b[A\n",
      " 72%|████████████████████████████▉           | 280M/387M [00:28<00:16, 6.70MB/s]\u001b[A\n",
      " 72%|████████████████████████████▉           | 280M/387M [00:28<00:16, 6.95MB/s]\u001b[A\n",
      " 73%|█████████████████████████████           | 281M/387M [00:29<00:15, 7.25MB/s]\u001b[A\n",
      " 73%|█████████████████████████████▏          | 282M/387M [00:29<00:12, 8.70MB/s]\u001b[A\n",
      " 73%|█████████████████████████████▎          | 283M/387M [00:29<00:11, 9.58MB/s]\u001b[A\n",
      " 74%|█████████████████████████████▍          | 285M/387M [00:29<00:10, 10.3MB/s]\u001b[A\n",
      " 74%|█████████████████████████████▌          | 286M/387M [00:29<00:09, 10.9MB/s]\u001b[A\n",
      " 74%|█████████████████████████████▋          | 287M/387M [00:29<00:09, 11.3MB/s]\u001b[A\n",
      " 74%|█████████████████████████████▊          | 288M/387M [00:29<00:08, 11.6MB/s]\u001b[A\n",
      " 75%|█████████████████████████████▉          | 290M/387M [00:29<00:08, 12.7MB/s]\u001b[A\n",
      " 75%|██████████████████████████████          | 291M/387M [00:29<00:07, 13.4MB/s]\u001b[A\n",
      " 76%|██████████████████████████████▎         | 293M/387M [00:29<00:07, 14.0MB/s]\u001b[A\n",
      " 76%|██████████████████████████████▍         | 294M/387M [00:30<00:06, 14.4MB/s]\u001b[A\n",
      " 76%|██████████████████████████████▌         | 295M/387M [00:30<00:06, 14.6MB/s]\u001b[A\n",
      " 77%|██████████████████████████████▋         | 297M/387M [00:30<00:06, 14.8MB/s]\u001b[A\n",
      " 77%|██████████████████████████████▊         | 298M/387M [00:30<00:06, 14.9MB/s]\u001b[A\n",
      " 78%|███████████████████████████████         | 300M/387M [00:30<00:06, 14.7MB/s]\u001b[A\n",
      " 78%|███████████████████████████████▏        | 301M/387M [00:30<00:06, 14.9MB/s]\u001b[A\n",
      " 78%|███████████████████████████████▎        | 303M/387M [00:30<00:05, 15.0MB/s]\u001b[A\n",
      " 79%|███████████████████████████████▍        | 304M/387M [00:30<00:05, 15.1MB/s]\u001b[A\n",
      " 79%|███████████████████████████████▌        | 306M/387M [00:30<00:05, 15.2MB/s]\u001b[A\n",
      " 79%|███████████████████████████████▊        | 307M/387M [00:30<00:05, 15.3MB/s]\u001b[A\n",
      " 80%|███████████████████████████████▉        | 309M/387M [00:31<00:05, 15.3MB/s]\u001b[A\n",
      " 80%|████████████████████████████████        | 310M/387M [00:31<00:05, 15.3MB/s]\u001b[A\n",
      " 81%|████████████████████████████████▏       | 312M/387M [00:31<00:05, 15.4MB/s]\u001b[A\n",
      " 81%|████████████████████████████████▎       | 313M/387M [00:31<00:05, 15.4MB/s]\u001b[A\n",
      " 81%|████████████████████████████████▌       | 315M/387M [00:31<00:04, 15.4MB/s]\u001b[A\n",
      " 82%|████████████████████████████████▋       | 316M/387M [00:31<00:04, 15.3MB/s]\u001b[A\n",
      " 82%|████████████████████████████████▊       | 317M/387M [00:31<00:04, 15.4MB/s]\u001b[A\n",
      " 82%|████████████████████████████████▉       | 319M/387M [00:31<00:04, 15.4MB/s]\u001b[A\n",
      " 83%|█████████████████████████████████▏      | 320M/387M [00:31<00:04, 15.4MB/s]\u001b[A\n",
      " 83%|█████████████████████████████████▎      | 322M/387M [00:31<00:04, 15.4MB/s]\u001b[A\n",
      " 84%|█████████████████████████████████▍      | 323M/387M [00:32<00:04, 15.3MB/s]\u001b[A\n",
      " 84%|█████████████████████████████████▌      | 325M/387M [00:32<00:04, 15.3MB/s]\u001b[A\n",
      " 84%|█████████████████████████████████▋      | 326M/387M [00:32<00:04, 15.4MB/s]\u001b[A\n",
      " 85%|█████████████████████████████████▉      | 328M/387M [00:32<00:04, 15.4MB/s]\u001b[A\n",
      " 85%|██████████████████████████████████      | 329M/387M [00:32<00:03, 15.4MB/s]\u001b[A\n",
      " 85%|██████████████████████████████████▏     | 331M/387M [00:32<00:03, 15.4MB/s]\u001b[A\n",
      " 86%|██████████████████████████████████▎     | 332M/387M [00:32<00:03, 15.4MB/s]\u001b[A\n",
      " 86%|██████████████████████████████████▍     | 334M/387M [00:32<00:03, 15.4MB/s]\u001b[A\n",
      " 87%|██████████████████████████████████▋     | 335M/387M [00:32<00:03, 14.5MB/s]\u001b[A\n",
      " 87%|██████████████████████████████████▊     | 337M/387M [00:32<00:03, 15.3MB/s]\u001b[A\n",
      " 87%|██████████████████████████████████▉     | 338M/387M [00:33<00:03, 15.3MB/s]\u001b[A\n",
      " 88%|███████████████████████████████████▏    | 340M/387M [00:33<00:03, 15.3MB/s]\u001b[A\n",
      " 88%|███████████████████████████████████▎    | 341M/387M [00:33<00:03, 15.3MB/s]\u001b[A\n",
      " 89%|███████████████████████████████████▍    | 343M/387M [00:33<00:03, 15.3MB/s]\u001b[A\n",
      " 89%|███████████████████████████████████▌    | 344M/387M [00:33<00:02, 15.4MB/s]\u001b[A\n",
      " 89%|███████████████████████████████████▋    | 346M/387M [00:33<00:02, 15.4MB/s]\u001b[A\n",
      " 90%|███████████████████████████████████▉    | 347M/387M [00:33<00:02, 14.8MB/s]\u001b[A\n",
      " 90%|████████████████████████████████████    | 349M/387M [00:33<00:02, 15.5MB/s]\u001b[A\n",
      " 91%|████████████████████████████████████▏   | 350M/387M [00:33<00:02, 15.4MB/s]\u001b[A\n",
      " 91%|████████████████████████████████████▎   | 352M/387M [00:34<00:02, 15.4MB/s]\u001b[A\n",
      " 91%|████████████████████████████████████▌   | 353M/387M [00:34<00:02, 15.4MB/s]\u001b[A\n",
      " 92%|████████████████████████████████████▋   | 355M/387M [00:34<00:02, 15.4MB/s]\u001b[A\n",
      " 92%|████████████████████████████████████▊   | 356M/387M [00:34<00:02, 15.4MB/s]\u001b[A\n",
      " 92%|████████████████████████████████████▉   | 358M/387M [00:34<00:01, 15.4MB/s]\u001b[A\n",
      " 93%|█████████████████████████████████████   | 359M/387M [00:34<00:01, 15.3MB/s]\u001b[A\n",
      " 93%|█████████████████████████████████████▎  | 361M/387M [00:34<00:01, 15.4MB/s]\u001b[A\n",
      " 94%|█████████████████████████████████████▍  | 362M/387M [00:34<00:01, 15.4MB/s]\u001b[A\n",
      " 94%|█████████████████████████████████████▌  | 363M/387M [00:34<00:01, 15.4MB/s]\u001b[A\n",
      " 94%|█████████████████████████████████████▋  | 365M/387M [00:34<00:01, 15.4MB/s]\u001b[A\n",
      " 95%|█████████████████████████████████████▉  | 366M/387M [00:35<00:01, 15.4MB/s]\u001b[A\n",
      " 95%|██████████████████████████████████████  | 368M/387M [00:35<00:01, 15.4MB/s]\u001b[A\n",
      " 95%|██████████████████████████████████████▏ | 369M/387M [00:35<00:01, 15.4MB/s]\u001b[A\n",
      " 96%|██████████████████████████████████████▎ | 371M/387M [00:35<00:01, 15.4MB/s]\u001b[A\n",
      " 96%|██████████████████████████████████████▍ | 372M/387M [00:35<00:00, 15.4MB/s]\u001b[A\n",
      " 97%|██████████████████████████████████████▋ | 374M/387M [00:35<00:00, 15.4MB/s]\u001b[A\n",
      " 97%|██████████████████████████████████████▊ | 375M/387M [00:35<00:00, 15.4MB/s]\u001b[A\n",
      " 97%|██████████████████████████████████████▉ | 377M/387M [00:35<00:00, 15.2MB/s]\u001b[A\n",
      " 98%|███████████████████████████████████████ | 378M/387M [00:35<00:00, 15.3MB/s]\u001b[A\n",
      " 98%|███████████████████████████████████████▎| 380M/387M [00:35<00:00, 15.3MB/s]\u001b[A\n",
      " 99%|███████████████████████████████████████▍| 381M/387M [00:36<00:00, 15.3MB/s]\u001b[A\n",
      " 99%|███████████████████████████████████████▌| 383M/387M [00:36<00:00, 15.3MB/s]\u001b[A\n",
      " 99%|███████████████████████████████████████▋| 384M/387M [00:36<00:00, 15.3MB/s]\u001b[A\n",
      "100%|███████████████████████████████████████▊| 386M/387M [00:36<00:00, 15.3MB/s]\u001b[A\n",
      "387MB [00:36, 15.4MB/s]                                                         \u001b[A\n",
      "388MB [00:36, 15.4MB/s]\u001b[A\n",
      "390MB [00:36, 15.3MB/s]\u001b[A\n",
      "391MB [00:36, 15.4MB/s]\u001b[A\n",
      "393MB [00:36, 15.3MB/s]\u001b[A\n",
      "394MB [00:36, 15.4MB/s]\u001b[A\n",
      "396MB [00:37, 15.3MB/s]\u001b[A\n",
      "                       \u001b[A"
     ]
    },
    {
     "name": "stdout",
     "output_type": "stream",
     "text": [
      "Found: S3A_SL_1_RBT____20220209T225750_20220209T230050_20220211T073550_0179_082_001_3600_MAR_O_NT_004.SEN3\n",
      "Unzipping of product S3A_SL_1_RBT____20220209T225750_20220209T230050_20220211T073550_0179_082_001_3600_MAR_O_NT_004.SEN3 finished.\n"
     ]
    },
    {
     "name": "stderr",
     "output_type": "stream",
     "text": [
      "                                                                                \r"
     ]
    },
    {
     "name": "stdout",
     "output_type": "stream",
     "text": [
      "Found: S3A_SL_2_WST____20220209T213232_20220209T231332_20220211T074946_6059_081_385______MAR_O_NT_003.SEN3\n",
      "Unzipping of product S3A_SL_2_WST____20220209T213232_20220209T231332_20220211T074946_6059_081_385______MAR_O_NT_003.SEN3 finished.\n"
     ]
    }
   ],
   "source": [
    "for query in queries:\n",
    "    matches = c.search(query)\n",
    "    matches.download()\n",
    "    for match in matches.results:\n",
    "        fdst = match['filename']\n",
    "        print(f\"Found: {fdst}\")        \n",
    "        with zipfile.ZipFile(fdst, 'r') as zip_ref:\n",
    "            zip_ref.extractall(download_dir)\n",
    "            print(f'Unzipping of product {fdst} finished.')\n",
    "        os.remove(fdst)"
   ]
  },
  {
   "cell_type": "markdown",
   "metadata": {},
   "source": [
    "You can now continue to work through the rest of the notebooks in this repository and learn more about working with SLSTR data."
   ]
  },
  {
   "cell_type": "markdown",
   "metadata": {},
   "source": [
    "<hr>\n",
    "<a href=\"../Index.ipynb\"><< Index</a>\n",
    "<br>\n",
    "<a href=\"./1_2_SLSTR_file_structure.ipynb\">Understanding SLSTR product structure >></a>\n",
    "<hr>\n",
    "<a href=\"https://gitlab.eumetsat.int/eumetlab/ocean\" target=\"_blank\">View on GitLab</a> | <a href=\"https://training.eumetsat.int/\" target=\"_blank\">EUMETSAT Training</a> | <a href=mailto:ops@eumetsat.int target=\"_blank\">Contact helpdesk for support </a> | <a href=mailto:Copernicus.training@eumetsat.int target=\"_blank\">Contact our training team to collaborate on and reuse this material</a></span></p>"
   ]
  }
 ],
 "metadata": {
  "author": "Ben Loveday, Hayley Evers-King",
  "description": "This Jupyter Notebook shows how to access Sentinel-3 Sea and Land Surface Temperature Radiometer (SLSTR) data via the WEkEO catalogue using the Harmonised Data Access (HDA) adaptor.",
  "image": "../img/thumbs/1_1b_SLSTR_data_access_HDA_thumb.png",
  "kernelspec": {
   "display_name": "Python 3 (ipykernel)",
   "language": "python",
   "name": "python3"
  },
  "language_info": {
   "codemirror_mode": {
    "name": "ipython",
    "version": 3
   },
   "file_extension": ".py",
   "mimetype": "text/x-python",
   "name": "python",
   "nbconvert_exporter": "python",
   "pygments_lexer": "ipython3",
   "version": "3.9.16"
  },
  "services": {
   "eumetsat": {
    "binder": {
     "link": "https://mybinder.org/v2/git/https%3A%2F%2Fgitlab.eumetsat.int%2Feumetlab%2Foceans%2Focean-training%2Fsensors%2Flearn-slstr/HEAD?urlpath=%2Ftree%2F1_SLSTR_introductory%2F1_1b_SLSTR_data_access_HDA.ipynb",
     "service_contact": "ops@eumetsat.int",
     "service_provider": "EUMETSAT"
    },
    "git": {
     "link": "https://gitlab.eumetsat.int/eumetlab/oceans/ocean-training/sensors/learn-slstr/-/blob/main/1_SLSTR_introductory/1_1b_SLSTR_data_access_HDA.ipynb",
     "service_contact": "ops@eumetsat.int",
     "service_provider": "EUMETSAT"
    }
   },
   "wekeo": {
    "git": {
     "link": "https://github.com/wekeo/learn-slstr/blob/main/1_SLSTR_introductory/1_1b_SLSTR_data_access_HDA.ipynb",
     "service_contact": "ops@eumetsat.int",
     "service_provider": "EUMETSAT"
    },
    "url": {
     "link": "https://jupyterhub-wekeo.apps.eumetsat.dpi.wekeo.eu/hub/user-redirect/lab/tree/public/wekeo4oceans/learn-slstr/1_SLSTR_introductory/1_1b_SLSTR_data_access_HDA.ipynb",
     "service_contact": "ops@eumetsat.int",
     "service_provider": "EUMETSAT"
    }
   }
  },
  "tags": {
   "domain": "Marine",
   "platform": [
    "Sentinel-3"
   ],
   "sensor": "SLSTR",
   "service": "EUMETSAT",
   "subtheme": [
    "Oceans and climate",
    "Sea ice",
    "Ocean fluxes"
   ],
   "tags": [
    "Top-of-atmosphere radiance",
    "Top-of-atmosphere brightness temperature",
    "Sea ice surface temperature",
    "Sea surface temperature"
   ]
  },
  "title": "Accessing Sentinel-3 SLSTR data via the WEkEO HDA adaptor"
 },
 "nbformat": 4,
 "nbformat_minor": 4
}
